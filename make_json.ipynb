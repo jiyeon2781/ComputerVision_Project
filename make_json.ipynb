{
 "cells": [
  {
   "cell_type": "code",
   "execution_count": 1,
   "metadata": {},
   "outputs": [],
   "source": [
    "import re\n",
    "import json\n",
    "import os\n",
    "import cv2\n",
    "import pycocotools._mask as _mask"
   ]
  },
  {
   "cell_type": "code",
   "execution_count": 2,
   "metadata": {},
   "outputs": [],
   "source": [
    "def area(rleObjs): #annotation에 들어갈 area \n",
    "    if type(rleObjs) == list:\n",
    "        return _mask.area(rleObjs).tolist()\n",
    "    else:\n",
    "        return _mask.area([rleObjs])[0].tolist()\n",
    "    \n",
    "def toBbox(rleObjs): #annotation에 들어갈 bbox\n",
    "    if type(rleObjs) == list:\n",
    "        return _mask.toBbox(rleObjs).tolist()\n",
    "    else:\n",
    "        return _mask.toBbox([rleObjs])[0].tolist()"
   ]
  },
  {
   "cell_type": "code",
   "execution_count": 3,
   "metadata": {},
   "outputs": [],
   "source": [
    "#ls -l | awk '{print $9}' \n",
    "list_file = []\n",
    "f = open('./list_190_200.txt', 'r') #annotation 작성할 file list 텍스트 파일\n",
    "lines = f.readlines()\n",
    "for i in lines:\n",
    "    list_file.append(i)"
   ]
  },
  {
   "cell_type": "code",
   "execution_count": 4,
   "metadata": {},
   "outputs": [],
   "source": [
    "category = [{\"id\":1,\"name\":\"text\",\"supercategory\":\"text\"},{\"id\":2,\"name\":\"0\",\"supercategory\":\"text\"},{\"id\":3,\"name\":\"1\",\"supercategory\":\"text\"},{\"id\":4,\"name\":\"2\",\"supercategory\":\"text\"},{\"id\":5,\"name\":\"3\",\"supercategory\":\"text\"},{\"id\":6,\"name\":\"4\",\"supercategory\":\"text\"},{\"id\":7,\"name\":\"5\",\"supercategory\":\"text\"},{\"id\":8,\"name\":\"6\",\"supercategory\":\"text\"},{\"id\":9,\"name\":\"7\",\"supercategory\":\"text\"},{\"id\":10,\"name\":\"8\",\"supercategory\":\"text\"},{\"id\":11,\"name\":\"9\",\"supercategory\":\"text\"},{\"id\":12,\"name\":\"A\",\"supercategory\":\"text\"},{\"id\":13,\"name\":\"B\",\"supercategory\":\"text\"},{\"id\":14,\"name\":\"C\",\"supercategory\":\"text\"},{\"id\":15,\"name\":\"D\",\"supercategory\":\"text\"},{\"id\":16,\"name\":\"E\",\"supercategory\":\"text\"},{\"id\":17,\"name\":\"F\",\"supercategory\":\"text\"},{\"id\":18,\"name\":\"G\",\"supercategory\":\"text\"},{\"id\":19,\"name\":\"H\",\"supercategory\":\"text\"},{\"id\":20,\"name\":\"I\",\"supercategory\":\"text\"},{\"id\":21,\"name\":\"J\",\"supercategory\":\"text\"},{\"id\":22,\"name\":\"K\",\"supercategory\":\"text\"},{\"id\":23,\"name\":\"L\",\"supercategory\":\"text\"},{\"id\":24,\"name\":\"M\",\"supercategory\":\"text\"},{\"id\":25,\"name\":\"N\",\"supercategory\":\"text\"},{\"id\":26,\"name\":\"O\",\"supercategory\":\"text\"},{\"id\":27,\"name\":\"P\",\"supercategory\":\"text\"},{\"id\":28,\"name\":\"Q\",\"supercategory\":\"text\"},{\"id\":29,\"name\":\"R\",\"supercategory\":\"text\"},{\"id\":30,\"name\":\"S\",\"supercategory\":\"text\"},{\"id\":31,\"name\":\"T\",\"supercategory\":\"text\"},{\"id\":32,\"name\":\"U\",\"supercategory\":\"text\"},{\"id\":33,\"name\":\"V\",\"supercategory\":\"text\"},{\"id\":34,\"name\":\"W\",\"supercategory\":\"text\"},{\"id\":35,\"name\":\"X\",\"supercategory\":\"text\"},{\"id\":36,\"name\":\"Y\",\"supercategory\":\"text\"},{\"id\":37,\"name\":\"Z\",\"supercategory\":\"text\"},{\"id\":38,\"name\":\"a\",\"supercategory\":\"text\"},{\"id\":39,\"name\":\"b\",\"supercategory\":\"text\"},{\"id\":40,\"name\":\"c\",\"supercategory\":\"text\"},{\"id\":41,\"name\":\"d\",\"supercategory\":\"text\"},{\"id\":42,\"name\":\"e\",\"supercategory\":\"text\"},{\"id\":43,\"name\":\"f\",\"supercategory\":\"text\"},{\"id\":44,\"name\":\"g\",\"supercategory\":\"text\"},{\"id\":45,\"name\":\"h\",\"supercategory\":\"text\"},{\"id\":46,\"name\":\"i\",\"supercategory\":\"text\"},{\"id\":47,\"name\":\"j\",\"supercategory\":\"text\"},{\"id\":48,\"name\":\"k\",\"supercategory\":\"text\"},{\"id\":49,\"name\":\"l\",\"supercategory\":\"text\"},{\"id\":50,\"name\":\"m\",\"supercategory\":\"text\"},{\"id\":51,\"name\":\"n\",\"supercategory\":\"text\"},{\"id\":52,\"name\":\"o\",\"supercategory\":\"text\"},{\"id\":53,\"name\":\"p\",\"supercategory\":\"text\"},{\"id\":54,\"name\":\"q\",\"supercategory\":\"text\"},{\"id\":55,\"name\":\"r\",\"supercategory\":\"text\"},{\"id\":56,\"name\":\"s\",\"supercategory\":\"text\"},{\"id\":57,\"name\":\"t\",\"supercategory\":\"text\"},{\"id\":58,\"name\":\"u\",\"supercategory\":\"text\"},{\"id\":59,\"name\":\"v\",\"supercategory\":\"text\"},{\"id\":60,\"name\":\"w\",\"supercategory\":\"text\"},{\"id\":61,\"name\":\"x\",\"supercategory\":\"text\"},{\"id\":62,\"name\":\"y\",\"supercategory\":\"text\"},{\"id\":63,\"name\":\"z\",\"supercategory\":\"text\"}]\n",
    "#63개의 카테고리 "
   ]
  },
  {
   "cell_type": "code",
   "execution_count": 5,
   "metadata": {},
   "outputs": [],
   "source": [
    "coco = {\n",
    "    \"images\" : [],\n",
    "    \"annotations\":[],\n",
    "    \"categories\" : category\n",
    "}"
   ]
  },
  {
   "cell_type": "code",
   "execution_count": 6,
   "metadata": {},
   "outputs": [],
   "source": [
    "for num, img_name in enumerate(list_file): #images 저장\n",
    "    file_ = 'D:\\\\synthtext\\\\SynthText_part\\\\190~200\\\\' + img_name.replace('\\n', '')\n",
    "    img = cv2.imread(file_, cv2.IMREAD_UNCHANGED)\n",
    "    coco['images'].append({\n",
    "        \"file_name\": img_name.replace('\\n', ''),\n",
    "        \"height\": img.shape[0],\n",
    "        \"width\": img.shape[1],\n",
    "        \"id\": num + 1\n",
    "    })"
   ]
  },
  {
   "cell_type": "code",
   "execution_count": 7,
   "metadata": {},
   "outputs": [],
   "source": [
    "coco['annotations'] = []"
   ]
  },
  {
   "cell_type": "code",
   "execution_count": 8,
   "metadata": {},
   "outputs": [],
   "source": [
    "annotation_id = 0\n",
    "for num, img_name in enumerate(list_file):# annotations 저장\n",
    "    file = 'D:\\\\synthtext\\\\SynthText_GT\\\\190~200\\\\' + img_name.replace('\\n', '') + '.txt'\n",
    "    img_file = 'D:\\\\synthtext\\\\SynthText_part\\\\190~200\\\\' + img_name.replace('\\n', '')\n",
    "    img = cv2.imread(img_file)\n",
    "    img_height, img_width, _ = img.shape\n",
    "    f = open(file, 'r')\n",
    "    lines = f.readlines()\n",
    "    for i in lines:\n",
    "        i = i.replace('-','')\n",
    "        if i[0] == '#' or i[0] == '\\n':\n",
    "            continue\n",
    "        k = [j.replace('\\n', '') for j in i.split(',')]\n",
    "        count = 0\n",
    "        for m in range(int(len(k)/9) - 1):\n",
    "            for category_ in coco['categories']:\n",
    "                if count == 0:\n",
    "                    category_width = float(k[4]) - float(k[0])\n",
    "                    category_height = float(k[5]) - float(k[1])\n",
    "                    segment = [[int(float(k[j])) for j in range(0, 8)]]\n",
    "                    rle = _mask.frPyObjects(segment, img_height, img_width)\n",
    "                    coco['annotations'].append({\n",
    "                             \"area\": area(rle)[0],\n",
    "                             \"bbox\": toBbox(rle)[0],\n",
    "                             \"category_id\": 1,\n",
    "                             \"id\": annotation_id,\n",
    "                             \"image_id\": num + 1,\n",
    "                             \"iscrowd\": 0,\n",
    "                             \"segmentation\": segment\n",
    "                    })\n",
    "                    annotation_id += 1\n",
    "                    count += 1\n",
    "                else:\n",
    "                    if category_['name'] in k[9*count+8]:\n",
    "                        category_width = float(k[9*count+4]) - float(k[9*count])\n",
    "                        category_height = float(k[9*count+5]) - float(k[9*count+1])\n",
    "                        segment = [[int(float(k[j])) for j in range(9*count, 9*count+8)]]\n",
    "                        rle = _mask.frPyObjects(segment, img_height, img_width)\n",
    "                        coco['annotations'].append({\n",
    "                            \"area\": area(rle)[0],\n",
    "                             \"bbox\": toBbox(rle)[0],\n",
    "                             \"category_id\": category_['id'],\n",
    "                             \"id\": annotation_id,\n",
    "                             \"image_id\": num + 1,\n",
    "                             \"iscrowd\": 0,\n",
    "                             \"segmentation\": segment\n",
    "                        })\n",
    "                        annotation_id += 1\n",
    "                        count += 1\n",
    "                        break\n",
    "            \n"
   ]
  },
  {
   "cell_type": "code",
   "execution_count": 9,
   "metadata": {},
   "outputs": [],
   "source": [
    "with open('synthtext_test.json', 'w') as fp: #최종 json 저장\n",
    "    json.dump(coco, fp)"
   ]
  }
 ],
 "metadata": {
  "kernelspec": {
   "display_name": "Python 3",
   "language": "python",
   "name": "python3"
  },
  "language_info": {
   "codemirror_mode": {
    "name": "ipython",
    "version": 3
   },
   "file_extension": ".py",
   "mimetype": "text/x-python",
   "name": "python",
   "nbconvert_exporter": "python",
   "pygments_lexer": "ipython3",
   "version": "3.7.6"
  }
 },
 "nbformat": 4,
 "nbformat_minor": 4
}
